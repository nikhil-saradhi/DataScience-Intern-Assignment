{
 "cells": [
  {
   "cell_type": "code",
   "execution_count": 1,
   "id": "0802699d-2a42-4da9-8647-de3a9e8b465a",
   "metadata": {},
   "outputs": [
    {
     "name": "stdout",
     "output_type": "stream",
     "text": [
      "Lookalike model completed. Results saved to Lookalike.csv.\n"
     ]
    }
   ],
   "source": [
    "import pandas as pd\n",
    "from sklearn.metrics.pairwise import cosine_similarity\n",
    "from sklearn.preprocessing import StandardScaler\n",
    "\n",
    "\n",
    "customers = pd.read_csv(r'C:\\Users\\kandu\\Desktop\\Downloads\\Customers.csv')\n",
    "products = pd.read_csv(r'C:\\Users\\kandu\\Desktop\\Downloads\\Products.csv')\n",
    "transactions = pd.read_csv(r'C:\\Users\\kandu\\Desktop\\Downloads\\Transactions.csv')\n",
    "\n",
    "\n",
    "merged_data = transactions.merge(customers, on='CustomerID').merge(products, on='ProductID')\n",
    "\n",
    "\n",
    "customer_summary = merged_data.groupby('CustomerID').agg({\n",
    "    'TotalValue': 'sum',\n",
    "    'Quantity': 'sum',\n",
    "    'Price_x': 'mean'\n",
    "}).reset_index()\n",
    "\n",
    "\n",
    "customer_profile = customers.merge(customer_summary, on='CustomerID', how='left').fillna(0)\n",
    "\n",
    "\n",
    "customer_profile = pd.get_dummies(customer_profile, columns=['Region'], drop_first=True)\n",
    "\n",
    "\n",
    "scaler = StandardScaler()\n",
    "customer_features = scaler.fit_transform(customer_profile.drop(columns=['CustomerID', 'CustomerName', 'SignupDate']))\n",
    "\n",
    "\n",
    "similarity_matrix = cosine_similarity(customer_features)\n",
    "\n",
    "\n",
    "lookalike_map = {}\n",
    "customer_ids = customer_profile['CustomerID'].tolist()\n",
    "\n",
    "for idx in range(20):  # First 20 customers\n",
    "    customer_id = customer_ids[idx]\n",
    "    similarities = list(enumerate(similarity_matrix[idx]))\n",
    "    similarities = sorted(similarities, key=lambda x: x[1], reverse=True)\n",
    "    top_3 = [(customer_ids[i], score) for i, score in similarities[1:4]]  # Exclude self-similarity\n",
    "    lookalike_map[customer_id] = top_3\n",
    "\n",
    "\n",
    "lookalike_df = pd.DataFrame({\n",
    "    'CustomerID': list(lookalike_map.keys()),\n",
    "    'Lookalikes': [str(lst) for lst in lookalike_map.values()]\n",
    "})\n",
    "\n",
    "lookalike_df.to_csv('Lookalike.csv', index=False)\n",
    "\n",
    "print(\"Lookalike model completed. Results saved to Lookalike.csv.\")\n"
   ]
  }
 ],
 "metadata": {
  "kernelspec": {
   "display_name": "Python 3 (ipykernel)",
   "language": "python",
   "name": "python3"
  },
  "language_info": {
   "codemirror_mode": {
    "name": "ipython",
    "version": 3
   },
   "file_extension": ".py",
   "mimetype": "text/x-python",
   "name": "python",
   "nbconvert_exporter": "python",
   "pygments_lexer": "ipython3",
   "version": "3.12.4"
  }
 },
 "nbformat": 4,
 "nbformat_minor": 5
}
